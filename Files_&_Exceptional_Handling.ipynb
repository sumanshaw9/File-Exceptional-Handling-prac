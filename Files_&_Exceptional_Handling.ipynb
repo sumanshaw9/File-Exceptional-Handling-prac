{
  "nbformat": 4,
  "nbformat_minor": 0,
  "metadata": {
    "colab": {
      "provenance": [],
      "authorship_tag": "ABX9TyPMzrFtKC51emoNv4jXRzz9"
    },
    "kernelspec": {
      "name": "python3",
      "display_name": "Python 3"
    },
    "language_info": {
      "name": "python"
    }
  },
  "cells": [
    {
      "cell_type": "markdown",
      "source": [
        "**1. Discuss the scenarios where multithreading is preferable to multiprocessing and scenarios where multiprocessing is a better choice.**"
      ],
      "metadata": {
        "id": "W2dnBBlCvfbX"
      }
    },
    {
      "cell_type": "markdown",
      "source": [
        "**When Multithreading is Preferable:**\n",
        "\n",
        "I/O-bound tasks: Ideal for tasks waiting on external operations (e.g., network requests, file I/O) where threads can run concurrently without heavy CPU usage.\n",
        "\n",
        "Lightweight tasks:Suitable when tasks require minimal CPU power and switching between them should be fast with low overhead.\n",
        "\n",
        " Shared memory:Best when tasks need frequent communication, as threads share the same memory space.\n",
        "\n",
        "\n",
        "Quick context switching:Thread switching is faster because threads are lighter and share resources.\n",
        "\n",
        "**When Multiprocessing is Preferable:**\n",
        "\n",
        "CPU-bound tasks: Great for heavy computations (e.g., image processing, numerical tasks) as processes can run in parallel across multiple CPU cores.\n",
        "\n",
        "\n",
        "Avoid Python's GIL:In Python, multiprocessing bypasses the Global Interpreter Lock (GIL), allowing true parallelism.\n",
        "\n",
        "\n",
        "Task isolation: Use when you need independent processes to avoid memory conflicts or crashes affecting other tasks.\n",
        "\n",
        "\n",
        "Heavy memory use:Each process has its own memory, making it better for tasks that consume a lot of memory.\n",
        "\n",
        "\n",
        "In brief, multithreading is best for I/O-bound tasks and shared memory, while multiprocessing shines for CPU-bound tasks and true parallelism."
      ],
      "metadata": {
        "id": "7x6qek5FwKcH"
      }
    },
    {
      "cell_type": "markdown",
      "source": [
        "**2. Describe what a process pool is and how it helps in managing multiple processes efficiently**"
      ],
      "metadata": {
        "id": "wVRH9PF7veoj"
      }
    },
    {
      "cell_type": "markdown",
      "source": [
        "A **process pool** is a programming construct that manages a fixed number of worker processes, allowing tasks to be executed concurrently across multiple CPU cores. Instead of creating a new process for each task (which is resource-intensive), the pool reuses a set of pre-created processes, distributing tasks among them as needed. This approach is widely used in parallel computing to improve efficiency.\n",
        "\n",
        "**How a Process Pool Helps**:\n",
        "\n",
        "1. Reduced Overhead:\n",
        "\n",
        "Creating and destroying processes is expensive. A process pool avoids this by maintaining a fixed number of processes, reducing the overhead of frequent process creation.\n",
        "\n",
        "2. Efficient Task Distribution:\n",
        "\n",
        "The pool distributes tasks among available worker processes. When a task completes, the process becomes available for the next task, ensuring efficient use of resources.\n",
        "\n",
        "3. Parallel Execution:\n",
        "\n",
        "Multiple tasks can run in parallel across different CPU cores, allowing the program to take advantage of multicore systems, especially for CPU-bound tasks.\n",
        "\n",
        "4. Simplified Management:\n",
        "\n",
        "The process pool abstracts the complexity of manually managing processes. It handles task assignment, process re-use, and synchronization, allowing the developer to focus on the tasks themselves rather than process lifecycle management."
      ],
      "metadata": {
        "id": "oA-IDCox0N4o"
      }
    },
    {
      "cell_type": "code",
      "source": [
        "#example of multiprocessing.Pool\n",
        "from multiprocessing import Pool\n",
        "\n",
        "def square(x):\n",
        "    return x * x\n",
        "\n",
        "if __name__ == '__main__':\n",
        "    with Pool(4) as p:  # Create a pool with 4 worker processes\n",
        "        result = p.map(square, [1, 2, 3, 4])\n",
        "    print(result)"
      ],
      "metadata": {
        "colab": {
          "base_uri": "https://localhost:8080/"
        },
        "id": "KMHqgyz08Tk-",
        "outputId": "d126fb2e-0dbb-4569-d213-cd2854021b8b"
      },
      "execution_count": null,
      "outputs": [
        {
          "output_type": "stream",
          "name": "stdout",
          "text": [
            "[1, 4, 9, 16]\n"
          ]
        }
      ]
    },
    {
      "cell_type": "markdown",
      "source": [
        "**3. Explain what multiprocessing is and why it is used in Python programs.**"
      ],
      "metadata": {
        "id": "H6jIlW5b8rux"
      }
    },
    {
      "cell_type": "markdown",
      "source": [
        "**Multiprocessing** is a programming technique that allows multiple processes to run concurrently, enabling programs to take full advantage of multicore CPUs. Each process operates independently, with its own memory space, allowing tasks to be performed in parallel without interfering with one another.\n",
        "\n",
        "**Why Multiprocessing is Used in Python:**\n",
        "\n",
        "Overcoming the Global Interpreter Lock (GIL): Python has a Global Interpreter Lock (GIL), which prevents multiple threads from executing Python bytecode in parallel. This can limit the performance of CPU-bound tasks when using multithreading. Multiprocessing bypasses the GIL by creating separate processes, each with its own Python interpreter and memory space, allowing true parallel execution on multiple CPU cores.\n",
        "\n",
        "Parallelism for CPU-Bound Tasks: For tasks that require heavy computation (like numerical calculations, image processing, or data analysis), multiprocessing allows these tasks to be split among multiple CPU cores, significantly improving performance and reducing execution time.\n",
        "\n",
        "Task Isolation: Since each process has its own memory space, multiprocessing is useful when tasks need to be isolated to prevent memory conflicts or data corruption, which is common in multithreading where threads share the same memory."
      ],
      "metadata": {
        "id": "123uyHIk85IP"
      }
    },
    {
      "cell_type": "code",
      "source": [
        "#example\n",
        "from multiprocessing import Process\n",
        "\n",
        "def worker():\n",
        "    print(\"Task executed in a separate process\")\n",
        "\n",
        "if __name__ == '__main__':\n",
        "    p = Process(target=worker)  # Create a new process\n",
        "    p.start()  # Start the process\n",
        "    p.join()   # Wait for the process to finish\n"
      ],
      "metadata": {
        "colab": {
          "base_uri": "https://localhost:8080/"
        },
        "id": "hgbk7_iZ8VIg",
        "outputId": "a5c93491-1b83-41d8-b848-b01d3b721166"
      },
      "execution_count": null,
      "outputs": [
        {
          "output_type": "stream",
          "name": "stdout",
          "text": [
            "Task executed in a separate process\n"
          ]
        }
      ]
    },
    {
      "cell_type": "markdown",
      "source": [
        "**4. Write a Python program using multithreading where one thread adds numbers to a list, and another thread removes numbers from the list. Implement a mechanism to avoid race conditions using threading.Lock.**"
      ],
      "metadata": {
        "id": "KAcl5nqr-dWo"
      }
    },
    {
      "cell_type": "code",
      "source": [
        "import threading\n",
        "import time\n",
        "\n",
        "# Shared list\n",
        "numbers = []\n",
        "\n",
        "# Create a lock to prevent race conditions\n",
        "lock = threading.Lock()\n",
        "\n",
        "# Function for adding numbers to the list\n",
        "def add_numbers():\n",
        "    for i in range(5):\n",
        "        time.sleep(1)  # Simulate some processing delay\n",
        "        with lock:  # Lock the critical section\n",
        "            numbers.append(i)\n",
        "            print(f\"Added: {i}, List: {numbers}\")\n",
        "\n",
        "# Function for removing numbers from the list\n",
        "def remove_numbers():\n",
        "    for i in range(5):\n",
        "        time.sleep(2)  # Simulate some processing delay\n",
        "        with lock:  # Lock the critical section\n",
        "            if numbers:\n",
        "                removed = numbers.pop(0)\n",
        "                print(f\"Removed: {removed}, List: {numbers}\")\n",
        "            else:\n",
        "                print(\"List is empty, cannot remove.\")\n",
        "\n",
        "# Create threads\n",
        "adder_thread = threading.Thread(target=add_numbers)\n",
        "remover_thread = threading.Thread(target=remove_numbers)\n",
        "\n",
        "# Start threads\n",
        "adder_thread.start()\n",
        "remover_thread.start()\n",
        "\n",
        "# Wait for both threads to finish\n",
        "adder_thread.join()\n",
        "remover_thread.join()\n",
        "\n",
        "print(\"Final List:\", numbers)\n"
      ],
      "metadata": {
        "colab": {
          "base_uri": "https://localhost:8080/"
        },
        "id": "Ubeia0Bh9Uqr",
        "outputId": "6e1651fd-3c09-4a56-a263-d4ce777030d2"
      },
      "execution_count": null,
      "outputs": [
        {
          "output_type": "stream",
          "name": "stdout",
          "text": [
            "Added: 0, List: [0]\n",
            "Added: 1, List: [0, 1]\n",
            "Removed: 0, List: [1]\n",
            "Added: 2, List: [1, 2]\n",
            "Added: 3, List: [1, 2, 3]\n",
            "Removed: 1, List: [2, 3]\n",
            "Added: 4, List: [2, 3, 4]\n",
            "Removed: 2, List: [3, 4]\n",
            "Removed: 3, List: [4]\n",
            "Removed: 4, List: []\n",
            "Final List: []\n"
          ]
        }
      ]
    },
    {
      "cell_type": "markdown",
      "source": [
        "In the above program\n",
        "\n",
        "Shared List: The numbers list is shared between both threads.\n",
        "\n",
        "Lock Mechanism: We use threading.Lock() to avoid race conditions. The with lock: block ensures that only one thread can access and modify the list at any given time.\n",
        "\n",
        "Adding Numbers: The add_numbers() function adds numbers (0 to 4) to the list with a short delay to simulate some work.\n",
        "\n",
        "Removing Numbers: The remove_numbers() function tries to remove numbers from the list, also with a delay. If the list is empty, it prints a message indicating it can't remove."
      ],
      "metadata": {
        "id": "kGQ-HYCz-IHm"
      }
    },
    {
      "cell_type": "markdown",
      "source": [
        "**5. Describe the methods and tools available in Python for safely sharing data between threads and processes.**"
      ],
      "metadata": {
        "id": "L1f9Ve4gJorV"
      }
    },
    {
      "cell_type": "markdown",
      "source": [
        "When working with Python, safely sharing data between threads and processes requires using specific methods and tools designed to handle concurrency and avoid issues such as race conditions.\n",
        "\n",
        "Here's an overview:\n",
        "\n",
        "**Sharing Data Between Threads**\n",
        "1. threading Module: Python's threading module provides various synchronization primitives to safely share data between threads:\n",
        "\n",
        "Locks: Use threading.Lock to ensure that only one thread can access a\n",
        "particular section of code or data at a time.\n",
        "\n",
        "RLocks: threading.RLock is a reentrant lock that allows the same thread to acquire the lock multiple times.\n",
        "\n",
        "Condition Variables: Use threading.Condition for more complex synchronization, allowing threads to wait for certain conditions to be met.\n",
        "\n",
        "Semaphores: threading.Semaphore is used to control access to a shared resource by limiting the number of threads that can access it simultaneously.\n",
        "\n",
        "Events: threading.Event provides a way for threads to signal each other about certain events or conditions.\n",
        "\n",
        "2. queue Module: The queue.Queue class is a thread-safe queue that can be used to pass data between threads. It handles locking internally, making it a good choice for producer-consumer scenarios.\n",
        "\n",
        "**Sharing Data Between Processes**\n",
        "1. multiprocessing Module: Python's multiprocessing module offers several tools for process-based concurrency:\n",
        "\n",
        "\n",
        "multiprocessing.Queue: A process-safe queue that allows data to be shared between processes.\n",
        "\n",
        "multiprocessing.Pipe: Provides a two-way communication channel between processes.\n",
        "\n",
        "multiprocessing.Manager: Offers a way to create shared objects (like lists, dictionaries) that can be accessed by multiple processes.\n",
        "\n",
        "multiprocessing.Lock and multiprocessing.RLock: Similar to threading locks, these prevent simultaneous access to shared data by multiple processes.\n",
        "\n",
        "multiprocessing.Value and multiprocessing.Array: For sharing primitive values and arrays between processes.\n",
        "\n",
        "2. Shared Memory: For more advanced scenarios, the multiprocessing.shared_memory module (introduced in Python 3.8) allows processes to access and manipulate data stored in shared memory. This can be more efficient for large data but requires careful management to avoid issues.\n",
        "\n",
        "**Choosing the Right Tool**\n",
        "\n",
        "**Threads** are best suited for I/O-bound tasks where you need to perform operations that involve waiting, such as reading from a file or network operations. They are less effective for CPU-bound tasks due to Python’s Global Interpreter Lock (GIL).\n",
        "\n",
        "**Processes** are more appropriate for CPU-bound tasks where you need to perform heavy computations. Since each process runs in its own Python interpreter and memory space, it avoids the GIL issue."
      ],
      "metadata": {
        "id": "w6hOSHdO_LdM"
      }
    },
    {
      "cell_type": "markdown",
      "source": [
        "**6. Discuss why it's crucial to handle exceptions in concurrent programs and the techniques available for doing so.**"
      ],
      "metadata": {
        "id": "SjL6DMoTMQDr"
      }
    },
    {
      "cell_type": "markdown",
      "source": [
        "**Why Handling Exceptions is Crucial**\n",
        "\n",
        "Prevent Crashes: Without proper handling, exceptions in one thread or process can cause the entire program to terminate unexpectedly.\n",
        "\n",
        "Maintain Consistency: Errors in concurrent tasks might affect shared resources, leading to inconsistent or corrupted states. Handling exceptions helps in maintaining data integrity.\n",
        "\n",
        "Debugging and Logging: Exception handling allows for better debugging and logging of errors, making it easier to identify and fix issues in concurrent programs.\n",
        "\n",
        "Graceful Recovery: Proper handling allows the program to recover or retry operations, enhancing reliability and user experience.\n",
        "Techniques for Handling Exceptions\n",
        "\n",
        "**In Threads**\n",
        "\n",
        "1. Try-Except Blocks: Use try-except blocks within thread functions to catch and handle exceptions specific to each thread."
      ],
      "metadata": {
        "id": "LO8t1UY-MjIq"
      }
    },
    {
      "cell_type": "code",
      "source": [
        "import threading\n",
        "\n",
        "def thread_function():\n",
        "    try:\n",
        "        # Code that might raise an exception\n",
        "        pass\n",
        "    except Exception as e:\n",
        "        print(f\"Exception in thread: {e}\")\n",
        "\n",
        "thread = threading.Thread(target=thread_function)\n",
        "thread.start()\n"
      ],
      "metadata": {
        "id": "Dxr-AX1y9tBy"
      },
      "execution_count": 5,
      "outputs": []
    },
    {
      "cell_type": "markdown",
      "source": [
        "2. Custom Exception Handling: Define custom exception classes if you need specific handling or reporting for different types of errors.\n",
        "\n",
        "3. Logging: Use logging to record exceptions and tracebacks for later analysis."
      ],
      "metadata": {
        "id": "f-gxwMYVM_6J"
      }
    },
    {
      "cell_type": "code",
      "source": [
        "import logging\n",
        "\n",
        "logging.basicConfig(level=logging.ERROR)\n",
        "\n",
        "def thread_function():\n",
        "    try:\n",
        "        # Code that might raise an exception\n",
        "        pass\n",
        "    except Exception as e:\n",
        "        logging.error(\"Exception occurred\", exc_info=True)\n"
      ],
      "metadata": {
        "id": "96rVZSm8M2St"
      },
      "execution_count": 6,
      "outputs": []
    },
    {
      "cell_type": "markdown",
      "source": [
        "**In Processes**\n",
        "\n",
        "1. Exception Propagation: Use mechanisms like multiprocessing.Queue or multiprocessing.Pipe to send exception information from child processes to the main process."
      ],
      "metadata": {
        "id": "Mtt3vw3dNGWh"
      }
    },
    {
      "cell_type": "code",
      "source": [
        "from multiprocessing import Process, Queue\n",
        "\n",
        "def process_function(queue):\n",
        "    try:\n",
        "        # Code that might raise an exception\n",
        "        pass\n",
        "    except Exception as e:\n",
        "        queue.put(f\"Exception in process: {e}\")\n",
        "\n",
        "q = Queue()\n",
        "process = Process(target=process_function, args=(q,))\n",
        "process.start()\n",
        "process.join()\n",
        "\n",
        "if not q.empty():\n",
        "    print(q.get())\n"
      ],
      "metadata": {
        "id": "E9xnDi5kNFKt"
      },
      "execution_count": 9,
      "outputs": []
    },
    {
      "cell_type": "markdown",
      "source": [
        "2. Exception Handling in the Main Process: Monitor the results or exceptions from child processes and handle them accordingly."
      ],
      "metadata": {
        "id": "Cc29e4yvNQaq"
      }
    },
    {
      "cell_type": "code",
      "source": [
        "from multiprocessing import Pool\n",
        "\n",
        "def process_function(x):\n",
        "    if x == 0:\n",
        "        raise ValueError(\"Invalid value\")\n",
        "    return x\n",
        "\n",
        "with Pool(processes=4) as pool:\n",
        "    try:\n",
        "        results = pool.map(process_function, [1, 2, 0, 4])\n",
        "    except Exception as e:\n",
        "        print(f\"Exception in pool: {e}\")\n"
      ],
      "metadata": {
        "colab": {
          "base_uri": "https://localhost:8080/"
        },
        "id": "yVVfa0veNPPS",
        "outputId": "8e3f313f-2cae-4631-db97-3e11a0dde069"
      },
      "execution_count": 8,
      "outputs": [
        {
          "output_type": "stream",
          "name": "stdout",
          "text": [
            "Exception in pool: Invalid value\n"
          ]
        }
      ]
    },
    {
      "cell_type": "markdown",
      "source": [
        "3. Use Pool.apply_async: For more control over handling exceptions, use apply_async with error handling callbacks."
      ],
      "metadata": {
        "id": "R0tTNZMHNbbS"
      }
    },
    {
      "cell_type": "code",
      "source": [
        "from multiprocessing import Pool\n",
        "\n",
        "def process_function(x):\n",
        "    if x == 0:\n",
        "        raise ValueError(\"Invalid value\")\n",
        "    return x\n",
        "\n",
        "def handle_result(result):\n",
        "    print(f\"Result: {result}\")\n",
        "\n",
        "def handle_exception(exception):\n",
        "    print(f\"Exception: {exception}\")\n",
        "\n",
        "with Pool(processes=4) as pool:\n",
        "    for x in [1, 2, 0, 4]:\n",
        "        pool.apply_async(process_function, args=(x,), callback=handle_result, error_callback=handle_exception)\n"
      ],
      "metadata": {
        "id": "0BvlH3SoNVfU"
      },
      "execution_count": 11,
      "outputs": []
    },
    {
      "cell_type": "markdown",
      "source": [
        "**7. Create a program that uses a thread pool to calculate the factorial of numbers from 1 to 10 concurrently. Use concurrent.futures.ThreadPoolExecutor to manage the threads.**"
      ],
      "metadata": {
        "id": "671MEbYROYFJ"
      }
    },
    {
      "cell_type": "code",
      "source": [
        "from concurrent.futures import ThreadPoolExecutor, as_completed\n",
        "import math\n",
        "\n",
        "def factorial(n):\n",
        "    \"\"\"Function to compute the factorial of a number.\"\"\"\n",
        "    return math.factorial(n)\n",
        "\n",
        "def main():\n",
        "    numbers = range(1, 11)  # Numbers from 1 to 10\n",
        "    results = {}\n",
        "\n",
        "    # Create a ThreadPoolExecutor\n",
        "    with ThreadPoolExecutor(max_workers=5) as executor:\n",
        "        # Submit tasks to the thread pool\n",
        "        future_to_number = {executor.submit(factorial, num): num for num in numbers}\n",
        "\n",
        "        # Process results as they become available\n",
        "        for future in as_completed(future_to_number):\n",
        "            num = future_to_number[future]\n",
        "            try:\n",
        "                result = future.result()\n",
        "                results[num] = result\n",
        "            except Exception as e:\n",
        "                print(f\"Exception occurred for number {num}: {e}\")\n",
        "\n",
        "    # Print results\n",
        "    for num, fact in sorted(results.items()):\n",
        "        print(f\"Factorial of {num} is {fact}\")\n",
        "\n",
        "if __name__ == \"__main__\":\n",
        "    main()\n"
      ],
      "metadata": {
        "colab": {
          "base_uri": "https://localhost:8080/"
        },
        "id": "0GA1uJ9WW8qh",
        "outputId": "7316a0b7-e880-4b38-b5e4-7b757caaaa78"
      },
      "execution_count": 13,
      "outputs": [
        {
          "output_type": "stream",
          "name": "stdout",
          "text": [
            "Factorial of 1 is 1\n",
            "Factorial of 2 is 2\n",
            "Factorial of 3 is 6\n",
            "Factorial of 4 is 24\n",
            "Factorial of 5 is 120\n",
            "Factorial of 6 is 720\n",
            "Factorial of 7 is 5040\n",
            "Factorial of 8 is 40320\n",
            "Factorial of 9 is 362880\n",
            "Factorial of 10 is 3628800\n"
          ]
        }
      ]
    },
    {
      "cell_type": "markdown",
      "source": [
        "Explanation:\n",
        "\n",
        "Import Modules: Import ThreadPoolExecutor and as_completed from concurrent.futures, and math for the factorial function.\n",
        "\n",
        "Factorial Function: Define a factorial function that computes the factorial of a given number using math.factorial.\n",
        "\n",
        "Main Function:\n",
        "\n",
        "Define the range of numbers from 1 to 10.\n",
        "\n",
        "Create a ThreadPoolExecutor with a maximum of 5 threads.\n",
        "\n",
        "Submit tasks to the thread pool using executor.submit, associating each task with a specific number.\n",
        "\n",
        "Use as_completed to iterate over completed futures and gather results, handling any exceptions that might occur."
      ],
      "metadata": {
        "id": "aB5CZaZxXbDI"
      }
    },
    {
      "cell_type": "markdown",
      "source": [
        "**8. Create a Python program that uses multiprocessing.Pool to compute the square of numbers from 1 to 10 in parallel. Measure the time taken to perform this computation using a pool of different sizes (e.g., 2, 4, 8 processes).**"
      ],
      "metadata": {
        "id": "jBJBlT7kXkWs"
      }
    },
    {
      "cell_type": "code",
      "source": [
        "import time\n",
        "from multiprocessing import Pool\n",
        "\n",
        "def square(n):\n",
        "    \"\"\"Function to compute the square of a number.\"\"\"\n",
        "    return n * n\n",
        "\n",
        "def measure_time(pool_size):\n",
        "    \"\"\"Function to measure the time taken for the computation using a pool of given size.\"\"\"\n",
        "    start_time = time.time()\n",
        "\n",
        "    with Pool(pool_size) as pool:\n",
        "        results = pool.map(square, range(1, 11))\n",
        "\n",
        "    end_time = time.time()\n",
        "    duration = end_time - start_time\n",
        "    return results, duration\n",
        "\n",
        "def main():\n",
        "    pool_sizes = [2, 4, 8]\n",
        "\n",
        "    for size in pool_sizes:\n",
        "        results, duration = measure_time(size)\n",
        "        print(f\"Pool size: {size}\")\n",
        "        print(f\"Results: {results}\")\n",
        "        print(f\"Time taken: {duration:.4f} seconds\")\n",
        "        print()\n",
        "\n",
        "if __name__ == \"__main__\":\n",
        "    main()\n"
      ],
      "metadata": {
        "colab": {
          "base_uri": "https://localhost:8080/"
        },
        "id": "c7eBx-4pXRnJ",
        "outputId": "d3f83e98-e8f4-45fc-8ff4-0a345eca7bc8"
      },
      "execution_count": 14,
      "outputs": [
        {
          "output_type": "stream",
          "name": "stdout",
          "text": [
            "Pool size: 2\n",
            "Results: [1, 4, 9, 16, 25, 36, 49, 64, 81, 100]\n",
            "Time taken: 0.0264 seconds\n",
            "\n",
            "Pool size: 4\n",
            "Results: [1, 4, 9, 16, 25, 36, 49, 64, 81, 100]\n",
            "Time taken: 0.0471 seconds\n",
            "\n",
            "Pool size: 8\n",
            "Results: [1, 4, 9, 16, 25, 36, 49, 64, 81, 100]\n",
            "Time taken: 0.0834 seconds\n",
            "\n"
          ]
        }
      ]
    },
    {
      "cell_type": "markdown",
      "source": [
        "Explanation:\n",
        "\n",
        "Define the square Function: Computes the square of a number.\n",
        "\n",
        "Define the measure_time Function:\n",
        "\n",
        "Starts a timer.\n",
        "\n",
        "Creates a Pool with the specified number of processes.\n",
        "\n",
        "\n",
        "Uses pool.map to apply the square function to numbers from 1 to 10.\n",
        "\n",
        "Ends the timer and calculates the duration.\n",
        "\n",
        "main Function:\n",
        "\n",
        "Defines different pool sizes.\n",
        "\n",
        "Calls measure_time for each pool size and prints the results and time taken."
      ],
      "metadata": {
        "id": "krXF4Ce-YCwF"
      }
    }
  ]
}